{
 "metadata": {
  "name": ""
 },
 "nbformat": 3,
 "nbformat_minor": 0,
 "worksheets": [
  {
   "cells": [
    {
     "cell_type": "markdown",
     "metadata": {},
     "source": [
      "#How to publish a blog with Nikola and GitHub#\n",
      "\n",
      "## On the local computer ##\n",
      "- Create the blog in a ipynb IPython notebook\n",
      "- If you already have a site, in terminal go to the site's folder and create a new post\n",
      "    - nikola new_post -f ipynb -t TITLE\n",
      "- Else, create a site first using\n",
      "    - nikola init site_name\n",
      "- Replace the post thus created (in folder 'posts') by the IPython notebook created in step 1\n",
      "- Run the command\n",
      "    - nikola build\n",
      "- Go to the output folder and check the html version of the new post\n",
      "- If necessary edit the html version in emacs (e.g., taking out the In: / Out: cells)\n",
      "\n",
      "## Publish on GitHub ##\n",
      "- Copy the contents of the output folder to a repo on GitHub\n",
      "- The site is available through your_git_username.github.com/repo.name\n",
      "\n"
     ]
    },
    {
     "cell_type": "code",
     "collapsed": false,
     "input": [],
     "language": "python",
     "metadata": {},
     "outputs": []
    }
   ],
   "metadata": {}
  }
 ]
}